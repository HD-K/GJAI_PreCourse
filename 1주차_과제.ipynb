{
  "nbformat": 4,
  "nbformat_minor": 0,
  "metadata": {
    "colab": {
      "name": "1주차 과제.ipynb",
      "provenance": [],
      "collapsed_sections": [],
      "authorship_tag": "ABX9TyM/Yu66mAVTPjkkq6H9IXXB",
      "include_colab_link": true
    },
    "kernelspec": {
      "name": "python3",
      "display_name": "Python 3"
    }
  },
  "cells": [
    {
      "cell_type": "markdown",
      "metadata": {
        "id": "view-in-github",
        "colab_type": "text"
      },
      "source": [
        "<a href=\"https://colab.research.google.com/github/HD-K/GJAI_PreCourse/blob/master/1%EC%A3%BC%EC%B0%A8_%EA%B3%BC%EC%A0%9C.ipynb\" target=\"_parent\"><img src=\"https://colab.research.google.com/assets/colab-badge.svg\" alt=\"Open In Colab\"/></a>"
      ]
    },
    {
      "cell_type": "markdown",
      "metadata": {
        "id": "_GM0gO1wyCVI",
        "colab_type": "text"
      },
      "source": [
        "#1주차 과제\n",
        "---\n",
        "\n",
        "## 1. 언어: 네이버 파파고\n",
        "* 국내 포털사이트 네이버에서 제공하는 인공지능 기반 번역 서비스\n",
        "* 지원하는 언어: 한국어, 일본어, 중국어(간체, 번체), 영어, 태국어, 러시아어 등 15개 언어\n",
        "\n",
        "\n",
        "## 2. 음성: 삼성 빅스비\n",
        "* 삼성전자에서 개발한 음성인식 개인비서 어플리케이션\n",
        "* 삼성전자가 출시한 스마트폰에 기본 탑재되어 제공\n",
        "* 알람, 날씨, 검색, 앱 실행 등의 기능을 음성을 사용하여 실행 가능\n",
        "\n",
        "\n",
        "## 3. 이미지: 구글 reCAPTCHA\n",
        "* 구글에서 서비스하는 봇 방지 API\n",
        "* 랜덤한 이미지를 제공하고 이를 타일화 한 뒤에, 제시하는 단어가 있는 타일을 선택하여 봇인지 아닌지를 구분\n",
        "\n",
        "\n",
        "## 4. 자율주행: 테슬라 오토파일럿\n",
        "* 테슬라 자동차에 내장된 자율주행 시스템\n",
        "* 앞차와의 간격에 따라 속도를 조절하거나, 운전대 조작 없이 현재 차선을 유지하며 운행할 수 있는 기술이 탑재\n",
        "\n",
        "\n",
        "\n"
      ]
    }
  ]
}